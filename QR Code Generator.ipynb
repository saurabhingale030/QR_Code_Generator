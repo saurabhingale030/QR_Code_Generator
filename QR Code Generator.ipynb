{
 "cells": [
  {
   "cell_type": "code",
   "execution_count": 3,
   "id": "a59b9f90",
   "metadata": {},
   "outputs": [],
   "source": [
    "import qrcode\n",
    "from PIL import Image\n",
    "qr = qrcode.QRCode(version=1,\n",
    "                  error_correction=qrcode.constants.ERROR_CORRECT_H,\n",
    "                 box_size=20, border=4,)\n",
    "qr.add_data(\"https://www.youtube.com/\")\n",
    "qr.make(fit=True)\n",
    "img=qr.make_image(fill_color=\"red\",back_color=\"white\")\n",
    "img.save(\"youtube.png\")\n"
   ]
  }
 ],
 "metadata": {
  "kernelspec": {
   "display_name": "Python 3 (ipykernel)",
   "language": "python",
   "name": "python3"
  },
  "language_info": {
   "codemirror_mode": {
    "name": "ipython",
    "version": 3
   },
   "file_extension": ".py",
   "mimetype": "text/x-python",
   "name": "python",
   "nbconvert_exporter": "python",
   "pygments_lexer": "ipython3",
   "version": "3.10.9"
  }
 },
 "nbformat": 4,
 "nbformat_minor": 5
}
